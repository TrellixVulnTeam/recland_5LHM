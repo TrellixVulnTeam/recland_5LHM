{
 "cells": [
  {
   "cell_type": "code",
   "execution_count": 1,
   "metadata": {
    "collapsed": true
   },
   "outputs": [],
   "source": [
    "# -*- coding: utf-8 -*-\n",
    "import nltk, string\n",
    "from sklearn.feature_extraction.text import TfidfVectorizer\n",
    "from docx import Document\n",
    "from RAKE import rake\n",
    "import unicodedata\n",
    "import csv\n",
    "import pandas as pd\n",
    "import itertools\n",
    "import numpy as np\n",
    "from Tkinter import *"
   ]
  },
  {
   "cell_type": "code",
   "execution_count": 2,
   "metadata": {
    "collapsed": true
   },
   "outputs": [],
   "source": [
    "stemmer = nltk.stem.porter.PorterStemmer()\n",
    "remove_punctuation_map = dict((ord(char), None) for char in string.punctuation)"
   ]
  },
  {
   "cell_type": "code",
   "execution_count": 3,
   "metadata": {
    "collapsed": false
   },
   "outputs": [],
   "source": [
    "def convertFormat(text):\n",
    "    return unicodedata.normalize('NFKD', text).encode('ascii', 'ignore')\n",
    "\n",
    "def stem_tokens(tokens):\n",
    "    return [stemmer.stem(item) for item in tokens]\n",
    "\n",
    "def normalize(text):\n",
    "    return stem_tokens(nltk.word_tokenize(text.lower().translate(remove_punctuation_map)))\n",
    "\n",
    "def cosine_sim(text1, text2):\n",
    "    try:\n",
    "        vectorizer = TfidfVectorizer(tokenizer=normalize, stop_words='english')\n",
    "        tfidf = vectorizer.fit_transform([text1, text2])\n",
    "        return ((tfidf * tfidf.T).A)[0,1]\n",
    "    except Exception as e:\n",
    "        return 0       \n",
    "\n",
    "def getText(filename):\n",
    "    doc = Document(filename)\n",
    "    fullText = []\n",
    "    for para in doc.paragraphs:\n",
    "        fullText.append(para.text)\n",
    "    return '\\n'.join(fullText)\n",
    "\n",
    "def joinElemenets(items):\n",
    "    return ' '.join(items)\n",
    "\n",
    "def getKeywords(text):\n",
    "    rake_object = rake.Rake(\"RAKE/SmartStoplist.txt\", 3, 3, 1)\n",
    "    return rake_object.run(text)\n",
    "\n",
    "def printProfile(profile):\n",
    "    print profile['Name']\n",
    "    print profile['Title']\n",
    "    print profile['Location']\n",
    "    print profile['Experience']\n",
    "    print profile['Pay rate']\n",
    "    print profile['Last Updated']\n",
    "    print profile['Relocate']\n",
    "    print profile['Previous Title'], \"\\n\"\n",
    "    \n",
    "def getCosineSim(PDlist, JD):\n",
    "    sims = map(cosine_sim, PDlist, itertools.repeat(JD, len(PDlist)))\n",
    "    return np.array(sims)\n",
    "\n",
    "def getTopNProfiles(n):\n",
    "    return sims.argsort()[-n:][::-1]"
   ]
  },
  {
   "cell_type": "markdown",
   "metadata": {},
   "source": [
    "## Load profiles"
   ]
  },
  {
   "cell_type": "code",
   "execution_count": 4,
   "metadata": {
    "collapsed": false,
    "scrolled": true
   },
   "outputs": [],
   "source": [
    "PD = pd.read_csv('data/DataMiner-PD-filled.csv')\n",
    "PD.loc[PD[\"Pay rate\"].isnull(),'Pay rate'] = \"negotiable | negotiable\"\n",
    "PD.loc[PD[\"Previous title\"].isnull(),'Previous title'] = \"N/A\""
   ]
  },
  {
   "cell_type": "code",
   "execution_count": 5,
   "metadata": {
    "collapsed": false,
    "scrolled": false
   },
   "outputs": [],
   "source": [
    "PDlist = map(joinElemenets, PD.values.tolist())"
   ]
  },
  {
   "cell_type": "markdown",
   "metadata": {},
   "source": [
    "## For .docx files"
   ]
  },
  {
   "cell_type": "code",
   "execution_count": 9,
   "metadata": {
    "collapsed": false,
    "scrolled": true
   },
   "outputs": [],
   "source": [
    "text = convertFormat(getText(\"data/SampleJD.docx\"))\n",
    "text = getKeywords(text)\n",
    "JD = ' '.join(zip(*text)[0])"
   ]
  },
  {
   "cell_type": "code",
   "execution_count": 10,
   "metadata": {
    "collapsed": true
   },
   "outputs": [],
   "source": [
    "sims = getCosineSim(PDlist, JD)\n",
    "topCandidates = getTopNProfiles(10)"
   ]
  },
  {
   "cell_type": "code",
   "execution_count": 11,
   "metadata": {
    "collapsed": false
   },
   "outputs": [
    {
     "data": {
      "text/html": [
       "<div>\n",
       "<table border=\"1\" class=\"dataframe\">\n",
       "  <thead>\n",
       "    <tr style=\"text-align: right;\">\n",
       "      <th></th>\n",
       "      <th>URL</th>\n",
       "      <th>Name</th>\n",
       "      <th>Title</th>\n",
       "      <th>Current Location</th>\n",
       "      <th>Experience</th>\n",
       "      <th>Pay rate</th>\n",
       "      <th>Last Updated</th>\n",
       "      <th>Relocate</th>\n",
       "      <th>Previous title</th>\n",
       "    </tr>\n",
       "  </thead>\n",
       "  <tbody>\n",
       "    <tr>\n",
       "      <th>379</th>\n",
       "      <td>https://employer.dice.com/ows/detailFacade.htm...</td>\n",
       "      <td>kaushik Reddy</td>\n",
       "      <td>Desired: Sr. Tableau BI Developer/ Sr. Data An...</td>\n",
       "      <td>Chicago, IL</td>\n",
       "      <td>8 years exp.</td>\n",
       "      <td>$110,000/yr | $55/hr</td>\n",
       "      <td>12/29/2016</td>\n",
       "      <td>Willing to relocate</td>\n",
       "      <td>Previous Title: Sr. Tableau BI Developer/ Sr. ...</td>\n",
       "    </tr>\n",
       "    <tr>\n",
       "      <th>270</th>\n",
       "      <td>https://employer.dice.com/ows/detailFacade.htm...</td>\n",
       "      <td>Charles Gamkong</td>\n",
       "      <td>Desired: Spotfire Tableau Data Scientist Busin...</td>\n",
       "      <td>Dallas, TX</td>\n",
       "      <td>10 years exp.</td>\n",
       "      <td>negotiable | negotiable</td>\n",
       "      <td>1/19/2017</td>\n",
       "      <td>Not willing to relocate</td>\n",
       "      <td>Previous Title: Sr Business Intelligence / Ent...</td>\n",
       "    </tr>\n",
       "    <tr>\n",
       "      <th>2075</th>\n",
       "      <td>https://employer.dice.com/ows/detailFacade.htm...</td>\n",
       "      <td>Srikanth Tabris</td>\n",
       "      <td>Desired: Sr. Tableau Developer/Data Analyst</td>\n",
       "      <td>North San Jose, CA</td>\n",
       "      <td>8 years exp.</td>\n",
       "      <td>negotiable | negotiable</td>\n",
       "      <td>12/23/2016</td>\n",
       "      <td>Willing to relocate</td>\n",
       "      <td>Previous Title: Tableau/ SAS Developer</td>\n",
       "    </tr>\n",
       "    <tr>\n",
       "      <th>230</th>\n",
       "      <td>https://employer.dice.com/ows/detailFacade.htm...</td>\n",
       "      <td>Giedre Mickeviciute</td>\n",
       "      <td>Desired: Software Development Manager, IT proj...</td>\n",
       "      <td>Concord, MA</td>\n",
       "      <td>17 years exp.</td>\n",
       "      <td>negotiable | negotiable</td>\n",
       "      <td>1/9/2017</td>\n",
       "      <td>Not willing to relocate</td>\n",
       "      <td>Previous Title: Founder and Business Developme...</td>\n",
       "    </tr>\n",
       "    <tr>\n",
       "      <th>1973</th>\n",
       "      <td>https://employer.dice.com/ows/detailFacade.htm...</td>\n",
       "      <td>Vishwa Mannem</td>\n",
       "      <td>Desired: Sr. SQL Server Database / BI Developer</td>\n",
       "      <td>Sacramento, CA</td>\n",
       "      <td>9 years exp.</td>\n",
       "      <td>negotiable | negotiable</td>\n",
       "      <td>1/20/2017</td>\n",
       "      <td>Willing to relocate</td>\n",
       "      <td>Previous Title: SQL SERVER / ORACLE DEVELOPER</td>\n",
       "    </tr>\n",
       "    <tr>\n",
       "      <th>257</th>\n",
       "      <td>https://employer.dice.com/ows/detailFacade.htm...</td>\n",
       "      <td>NAVEEN KUMAR POOJARI</td>\n",
       "      <td>Desired: Oracle / ETL Developer ; Systems Anal...</td>\n",
       "      <td>Atlanta, GA</td>\n",
       "      <td>9 years exp.</td>\n",
       "      <td>negotiable | negotiable</td>\n",
       "      <td>1/20/2017</td>\n",
       "      <td>Willing to relocate</td>\n",
       "      <td>Previous Title: Oracle /ETL(Informatica) Devel...</td>\n",
       "    </tr>\n",
       "    <tr>\n",
       "      <th>1949</th>\n",
       "      <td>https://employer.dice.com/ows/detailFacade.htm...</td>\n",
       "      <td>RENJITH PEEDIACKAL</td>\n",
       "      <td>Desired: Business Data Analyst</td>\n",
       "      <td>Wilmington, DE</td>\n",
       "      <td>10 years exp.</td>\n",
       "      <td>$90,000/yr | $45/hr</td>\n",
       "      <td>1/17/2017</td>\n",
       "      <td>Willing to relocate</td>\n",
       "      <td>Previous Title: Data Analysis Consultant</td>\n",
       "    </tr>\n",
       "    <tr>\n",
       "      <th>1215</th>\n",
       "      <td>https://employer.dice.com/ows/detailFacade.htm...</td>\n",
       "      <td>SHILPI SRIVASTAVA</td>\n",
       "      <td>Desired: Project Manager, Software Engineer, S...</td>\n",
       "      <td>Katy, TX</td>\n",
       "      <td>10 years exp.</td>\n",
       "      <td>$24,000/yr | $12/hr</td>\n",
       "      <td>1/3/2017</td>\n",
       "      <td>Willing to relocate</td>\n",
       "      <td>N/A</td>\n",
       "    </tr>\n",
       "    <tr>\n",
       "      <th>1326</th>\n",
       "      <td>https://employer.dice.com/ows/detailFacade.htm...</td>\n",
       "      <td>Anumita Pal</td>\n",
       "      <td>Desired: Sr. Tableau Developer /Sr. Data Analyst</td>\n",
       "      <td>Seattle, WA</td>\n",
       "      <td>9 years exp.</td>\n",
       "      <td>negotiable | negotiable</td>\n",
       "      <td>1/20/2017</td>\n",
       "      <td>Willing to relocate</td>\n",
       "      <td>Previous Title: MSBI Analyst</td>\n",
       "    </tr>\n",
       "    <tr>\n",
       "      <th>1769</th>\n",
       "      <td>https://employer.dice.com/ows/detailFacade.htm...</td>\n",
       "      <td>Ram V</td>\n",
       "      <td>Desired: Director,Project Manager ,Delivery Ma...</td>\n",
       "      <td>Norwood, NJ</td>\n",
       "      <td>20+ years exp.</td>\n",
       "      <td>$137,800/yr | $65/hr</td>\n",
       "      <td>1/12/2017</td>\n",
       "      <td>Willing to relocate</td>\n",
       "      <td>Previous Title: Customer Support Engineer</td>\n",
       "    </tr>\n",
       "  </tbody>\n",
       "</table>\n",
       "</div>"
      ],
      "text/plain": [
       "                                                    URL                  Name  \\\n",
       "379   https://employer.dice.com/ows/detailFacade.htm...         kaushik Reddy   \n",
       "270   https://employer.dice.com/ows/detailFacade.htm...       Charles Gamkong   \n",
       "2075  https://employer.dice.com/ows/detailFacade.htm...       Srikanth Tabris   \n",
       "230   https://employer.dice.com/ows/detailFacade.htm...   Giedre Mickeviciute   \n",
       "1973  https://employer.dice.com/ows/detailFacade.htm...         Vishwa Mannem   \n",
       "257   https://employer.dice.com/ows/detailFacade.htm...  NAVEEN KUMAR POOJARI   \n",
       "1949  https://employer.dice.com/ows/detailFacade.htm...    RENJITH PEEDIACKAL   \n",
       "1215  https://employer.dice.com/ows/detailFacade.htm...     SHILPI SRIVASTAVA   \n",
       "1326  https://employer.dice.com/ows/detailFacade.htm...           Anumita Pal   \n",
       "1769  https://employer.dice.com/ows/detailFacade.htm...                 Ram V   \n",
       "\n",
       "                                                  Title    Current Location  \\\n",
       "379   Desired: Sr. Tableau BI Developer/ Sr. Data An...         Chicago, IL   \n",
       "270   Desired: Spotfire Tableau Data Scientist Busin...          Dallas, TX   \n",
       "2075        Desired: Sr. Tableau Developer/Data Analyst  North San Jose, CA   \n",
       "230   Desired: Software Development Manager, IT proj...         Concord, MA   \n",
       "1973    Desired: Sr. SQL Server Database / BI Developer      Sacramento, CA   \n",
       "257   Desired: Oracle / ETL Developer ; Systems Anal...         Atlanta, GA   \n",
       "1949                     Desired: Business Data Analyst      Wilmington, DE   \n",
       "1215  Desired: Project Manager, Software Engineer, S...            Katy, TX   \n",
       "1326   Desired: Sr. Tableau Developer /Sr. Data Analyst         Seattle, WA   \n",
       "1769  Desired: Director,Project Manager ,Delivery Ma...         Norwood, NJ   \n",
       "\n",
       "          Experience                 Pay rate Last Updated  \\\n",
       "379     8 years exp.     $110,000/yr | $55/hr   12/29/2016   \n",
       "270    10 years exp.  negotiable | negotiable    1/19/2017   \n",
       "2075    8 years exp.  negotiable | negotiable   12/23/2016   \n",
       "230    17 years exp.  negotiable | negotiable     1/9/2017   \n",
       "1973    9 years exp.  negotiable | negotiable    1/20/2017   \n",
       "257     9 years exp.  negotiable | negotiable    1/20/2017   \n",
       "1949   10 years exp.      $90,000/yr | $45/hr    1/17/2017   \n",
       "1215   10 years exp.      $24,000/yr | $12/hr     1/3/2017   \n",
       "1326    9 years exp.  negotiable | negotiable    1/20/2017   \n",
       "1769  20+ years exp.     $137,800/yr | $65/hr    1/12/2017   \n",
       "\n",
       "                     Relocate  \\\n",
       "379       Willing to relocate   \n",
       "270   Not willing to relocate   \n",
       "2075      Willing to relocate   \n",
       "230   Not willing to relocate   \n",
       "1973      Willing to relocate   \n",
       "257       Willing to relocate   \n",
       "1949      Willing to relocate   \n",
       "1215      Willing to relocate   \n",
       "1326      Willing to relocate   \n",
       "1769      Willing to relocate   \n",
       "\n",
       "                                         Previous title  \n",
       "379   Previous Title: Sr. Tableau BI Developer/ Sr. ...  \n",
       "270   Previous Title: Sr Business Intelligence / Ent...  \n",
       "2075             Previous Title: Tableau/ SAS Developer  \n",
       "230   Previous Title: Founder and Business Developme...  \n",
       "1973      Previous Title: SQL SERVER / ORACLE DEVELOPER  \n",
       "257   Previous Title: Oracle /ETL(Informatica) Devel...  \n",
       "1949           Previous Title: Data Analysis Consultant  \n",
       "1215                                                N/A  \n",
       "1326                       Previous Title: MSBI Analyst  \n",
       "1769          Previous Title: Customer Support Engineer  "
      ]
     },
     "execution_count": 11,
     "metadata": {},
     "output_type": "execute_result"
    }
   ],
   "source": [
    "PD.ix[topCandidates,:]"
   ]
  },
  {
   "cell_type": "markdown",
   "metadata": {},
   "source": [
    "## UI application"
   ]
  },
  {
   "cell_type": "code",
   "execution_count": 23,
   "metadata": {
    "collapsed": false
   },
   "outputs": [
    {
     "data": {
      "text/plain": [
       "URL                 https://employer.dice.com/ows/detailFacade.htm...\n",
       "Name                                              Giedre Mickeviciute\n",
       "Title               Desired: Software Development Manager, IT proj...\n",
       "Current Location                                          Concord, MA\n",
       "Experience                                              17 years exp.\n",
       "Pay rate                                      negotiable | negotiable\n",
       "Last Updated                                                 1/9/2017\n",
       "Relocate                                      Not willing to relocate\n",
       "Previous title      Previous Title: Founder and Business Developme...\n",
       "Name: 230, dtype: object"
      ]
     },
     "execution_count": 23,
     "metadata": {},
     "output_type": "execute_result"
    }
   ],
   "source": [
    "PD.ix[topCandidates[0]]"
   ]
  },
  {
   "cell_type": "code",
   "execution_count": 117,
   "metadata": {
    "collapsed": false
   },
   "outputs": [],
   "source": [
    "def process():\n",
    "    sims = getCosineSim(PDlist, txt)\n",
    "    topCandidates = getTopNProfiles(5)\n",
    "    p0 = PD.ix[topCandidates[0]]\n",
    "    \n",
    "    f=(\"Calibri\",10)\n",
    "    r=4\n",
    "    \n",
    "    Label(app, text=\"A\", width=20, height=1).grid(row=r+1, column=0, sticky=SW)\n",
    "    Label(app, text=\"AAA\", width=20, height=1).grid(row=r+2, column=0, sticky=W)\n",
    "    Label(app, text=\"AAAAA\", width=40, height=1).grid(row=r+3, column=0, sticky=W)\n",
    "#     Label(app, text=p0[\"Name\"], width=len(p0[\"Name\"]), height=1).grid(row=r+1, column=0, sticky=W)\n",
    "#     Label(app, text=str(p0[\"Title\"]).split(':')[1], width=len(str(p0[\"Title\"]).split(':')[1]), height=1).grid(row=r+2, column=0, sticky=W)\n",
    "#     Label(app, text=p0[\"Current Location\"], width=len(p0[\"Current Location\"]), height=1).grid(row=r+3, column=0, sticky=W)\n",
    "#     Label(app, text='{0}'.format(p0[\"Name\"]), width=len(p0[\"Name\"]), height=1, font=(\"Calibri\",13)).grid(row=r, column=0)\n",
    "#     Label(app, text='{0}'.format(str(p0[\"Title\"]).split(':')[1]), width=len(p0[\"Title\"].split(':')[1]), height=1, font=f).grid(row=r, column= 1)\n",
    "#     Label(app, text='{0}'.format(p0[\"Current Location\"]), width=len(p0[\"Current Location\"]), height=1, font=f).grid(row=r+2, column=1)\n",
    "#     Label(app, text='{0}'.format(p0[\"Experience\"]), width=len(p0[\"Experience\"]), height=1, font=f).grid(row=r+3, column=1)\n",
    "#     Label(app, text='{0}'.format(p0[\"Pay rate\"]), width=len(p0[\"Pay rate\"]), height=1, font=f).grid(row=r+4, column=1)\n",
    "#     Label(app, text='{0}'.format(p0[\"Relocate\"]), width=len(p0[\"Relocate\"]), height=1, font=f).grid(row=r+5, column=1)\n",
    "    Label(app, text='{0}'.format(p0[\"URL\"]), width=len(p0[\"URL\"]), height=1, font=f).grid(row=r+6, column=1, columnspan=2)\n",
    "    \n",
    "root = Tk()\n",
    "root.title('Profile Recommender')\n",
    "root.wm_state('zoomed')\n",
    "\n",
    "app = Frame(root)\n",
    "app.pack()#side=\"left\", fill='both', expand=True, padx=4, pady=4)\n",
    "\n",
    "data = None\n",
    "\n",
    "Label(app, text=' ', font=(\"Calibri\",16)).grid(row=1, column=0, sticky=NW)\n",
    "Label(app, text='Job Description          ', font=(\"Calibri -weight bold\", 16)).grid(row=2, column=0, sticky=NW)\n",
    "Label(app, text='', width=7, font=(\"Calibri\",16)).grid(row=2, column=3, sticky=NW)\n",
    "\n",
    "txt = StringVar()\n",
    "Entry(app, textvariable=txt, width=60, font=(\"Calibri light\",16)).grid(row=2, column=1, sticky=NE)\n",
    "\n",
    "Button(app, text='Search', command=process, width=10, font=(\"Calibri -weight bold\", 14)).grid(row=2, column=4, sticky=SE)\n",
    "\n",
    "root.mainloop()"
   ]
  }
 ],
 "metadata": {
  "anaconda-cloud": {},
  "kernelspec": {
   "display_name": "Python [default]",
   "language": "python",
   "name": "python2"
  },
  "language_info": {
   "codemirror_mode": {
    "name": "ipython",
    "version": 2
   },
   "file_extension": ".py",
   "mimetype": "text/x-python",
   "name": "python",
   "nbconvert_exporter": "python",
   "pygments_lexer": "ipython2",
   "version": "2.7.12"
  }
 },
 "nbformat": 4,
 "nbformat_minor": 1
}
